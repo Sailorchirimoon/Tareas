{
  "nbformat": 4,
  "nbformat_minor": 0,
  "metadata": {
    "colab": {
      "name": "Untitled3.ipynb",
      "provenance": []
    },
    "kernelspec": {
      "name": "python3",
      "display_name": "Python 3"
    },
    "language_info": {
      "name": "python"
    }
  },
  "cells": [
    {
      "cell_type": "code",
      "execution_count": null,
      "metadata": {
        "id": "cdPEFGLEOj5z"
      },
      "outputs": [],
      "source": [
        ""
      ]
    },
    {
      "cell_type": "markdown",
      "source": [
        "\n",
        "\n",
        "Ejercicio 2\n",
        "Escribe una función llamada \"separa\" que tome una lista y elimine el primer y último elemento de la lista y cree dos nuevas listas con los elementos que no fueron eliminados. Luego escribe una función que se llame \"media\" que tome una lista y devuelva una nueva lista que contenga todos los elementos de la lista anterior menos el primero y el último.\n",
        "\n"
      ],
      "metadata": {
        "id": "BdXALH0Namy_"
      }
    },
    {
      "cell_type": "code",
      "source": [
        "lista_numeros= [1,2,3,4,5]\n",
        "print (len(lista_numeros))\n",
        "lista_numeros.pop(0)\n",
        "print (lista_numeros)\n",
        "\n",
        "lista_numeros.pop (3)\n",
        "print (lista_numeros)\n",
        "\n",
        "lista_corta= lista_numeros.pop(0)and lista_numeros.pop(len(lista_numeros)-1)\n",
        "print (lista_corta)\n"
      ],
      "metadata": {
        "colab": {
          "base_uri": "https://localhost:8080/"
        },
        "id": "HGzPLRjDbDVG",
        "outputId": "21fe7ea8-0670-4ed5-a898-de1a23ba62f4"
      },
      "execution_count": 12,
      "outputs": [
        {
          "output_type": "stream",
          "name": "stdout",
          "text": [
            "5\n",
            "[2, 3, 4, 5]\n",
            "[2, 3, 4]\n",
            "4\n"
          ]
        }
      ]
    }
  ]
}